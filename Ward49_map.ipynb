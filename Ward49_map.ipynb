{
 "cells": [
  {
   "cell_type": "code",
   "execution_count": 65,
   "metadata": {},
   "outputs": [],
   "source": [
    "# Import pandas library using an alias\n",
    "import pandas as pd\n",
    "# library to handle data in a vectorized manner\n",
    "import numpy as np\n",
    "\n",
    "# library to handle JSON files\n",
    "# import json\n",
    "# library to handle requests\n",
    "# import requests\n",
    "# tranform JSON file into a pandas dataframe\n",
    "# from pandas.io.json import json_normalize\n",
    "\n",
    "# import geocoder\n",
    "import geocoder\n",
    "# convert an address into latitude and longitude values\n",
    "from geopy.geocoders import Nominatim\n",
    "\n",
    "# Matplotlib and associated plotting modules\n",
    "import matplotlib.cm as cm\n",
    "import matplotlib.colors as colors\n",
    "\n",
    "# map rendering library\n",
    "import folium"
   ]
  },
  {
   "cell_type": "code",
   "execution_count": 66,
   "metadata": {
    "scrolled": true
   },
   "outputs": [
    {
     "data": {
      "text/html": [
       "<div>\n",
       "<style scoped>\n",
       "    .dataframe tbody tr th:only-of-type {\n",
       "        vertical-align: middle;\n",
       "    }\n",
       "\n",
       "    .dataframe tbody tr th {\n",
       "        vertical-align: top;\n",
       "    }\n",
       "\n",
       "    .dataframe thead th {\n",
       "        text-align: right;\n",
       "    }\n",
       "</style>\n",
       "<table border=\"1\" class=\"dataframe\">\n",
       "  <thead>\n",
       "    <tr style=\"text-align: right;\">\n",
       "      <th></th>\n",
       "      <th>name</th>\n",
       "      <th>address</th>\n",
       "      <th>city</th>\n",
       "      <th>state</th>\n",
       "      <th>zip</th>\n",
       "      <th>phone</th>\n",
       "      <th>hours_of_operation</th>\n",
       "      <th>latitude</th>\n",
       "      <th>longitude</th>\n",
       "      <th>url</th>\n",
       "      <th>location_type</th>\n",
       "    </tr>\n",
       "  </thead>\n",
       "  <tbody>\n",
       "    <tr>\n",
       "      <th>0</th>\n",
       "      <td>Rogers Park</td>\n",
       "      <td>6907 N. Clark St.</td>\n",
       "      <td>Chicago</td>\n",
       "      <td>IL</td>\n",
       "      <td>60626.0</td>\n",
       "      <td>(312) 744-0156</td>\n",
       "      <td>Sun., Closed; Mon. &amp; Wed., Noon-8; Tue. &amp; Thu....</td>\n",
       "      <td>42.006708</td>\n",
       "      <td>-87.673408</td>\n",
       "      <td>https://www.chipublib.org/locations/61/</td>\n",
       "      <td>Library</td>\n",
       "    </tr>\n",
       "    <tr>\n",
       "      <th>1</th>\n",
       "      <td>SULLIVAN HS</td>\n",
       "      <td>6631 N BOSWORTH AVE</td>\n",
       "      <td>NaN</td>\n",
       "      <td>NaN</td>\n",
       "      <td>NaN</td>\n",
       "      <td>NaN</td>\n",
       "      <td>NaN</td>\n",
       "      <td>42.002688</td>\n",
       "      <td>-87.669192</td>\n",
       "      <td>NaN</td>\n",
       "      <td>High School</td>\n",
       "    </tr>\n",
       "    <tr>\n",
       "      <th>2</th>\n",
       "      <td>GALE</td>\n",
       "      <td>1631 W JONQUIL TER</td>\n",
       "      <td>NaN</td>\n",
       "      <td>NaN</td>\n",
       "      <td>NaN</td>\n",
       "      <td>NaN</td>\n",
       "      <td>NaN</td>\n",
       "      <td>42.021091</td>\n",
       "      <td>-87.671939</td>\n",
       "      <td>NaN</td>\n",
       "      <td>Elementary School</td>\n",
       "    </tr>\n",
       "    <tr>\n",
       "      <th>3</th>\n",
       "      <td>ACERO - DE LA CRUZ</td>\n",
       "      <td>7416 N RIDGE BLVD</td>\n",
       "      <td>NaN</td>\n",
       "      <td>NaN</td>\n",
       "      <td>NaN</td>\n",
       "      <td>NaN</td>\n",
       "      <td>NaN</td>\n",
       "      <td>42.016476</td>\n",
       "      <td>-87.684406</td>\n",
       "      <td>NaN</td>\n",
       "      <td>Elementary School</td>\n",
       "    </tr>\n",
       "    <tr>\n",
       "      <th>4</th>\n",
       "      <td>FIELD</td>\n",
       "      <td>7019 N ASHLAND AVE</td>\n",
       "      <td>NaN</td>\n",
       "      <td>NaN</td>\n",
       "      <td>NaN</td>\n",
       "      <td>NaN</td>\n",
       "      <td>NaN</td>\n",
       "      <td>42.009664</td>\n",
       "      <td>-87.669985</td>\n",
       "      <td>NaN</td>\n",
       "      <td>Elementary School</td>\n",
       "    </tr>\n",
       "  </tbody>\n",
       "</table>\n",
       "</div>"
      ],
      "text/plain": [
       "                 name              address     city state      zip  \\\n",
       "0         Rogers Park    6907 N. Clark St.  Chicago    IL  60626.0   \n",
       "1         SULLIVAN HS  6631 N BOSWORTH AVE      NaN   NaN      NaN   \n",
       "2                GALE   1631 W JONQUIL TER      NaN   NaN      NaN   \n",
       "3  ACERO - DE LA CRUZ    7416 N RIDGE BLVD      NaN   NaN      NaN   \n",
       "4               FIELD   7019 N ASHLAND AVE      NaN   NaN      NaN   \n",
       "\n",
       "            phone                                 hours_of_operation  \\\n",
       "0  (312) 744-0156  Sun., Closed; Mon. & Wed., Noon-8; Tue. & Thu....   \n",
       "1             NaN                                                NaN   \n",
       "2             NaN                                                NaN   \n",
       "3             NaN                                                NaN   \n",
       "4             NaN                                                NaN   \n",
       "\n",
       "    latitude  longitude                                      url  \\\n",
       "0  42.006708 -87.673408  https://www.chipublib.org/locations/61/   \n",
       "1  42.002688 -87.669192                                      NaN   \n",
       "2  42.021091 -87.671939                                      NaN   \n",
       "3  42.016476 -87.684406                                      NaN   \n",
       "4  42.009664 -87.669985                                      NaN   \n",
       "\n",
       "       location_type  \n",
       "0            Library  \n",
       "1        High School  \n",
       "2  Elementary School  \n",
       "3  Elementary School  \n",
       "4  Elementary School  "
      ]
     },
     "execution_count": 66,
     "metadata": {},
     "output_type": "execute_result"
    }
   ],
   "source": [
    "#library_df = pd.read_excel('ChicagoLibraries.xlsx')\n",
    "#library_df.head()\n",
    "ward49_df = pd.read_excel('Ward49.xlsx')\n",
    "ward49_df.head()"
   ]
  },
  {
   "cell_type": "code",
   "execution_count": 67,
   "metadata": {},
   "outputs": [
    {
     "data": {
      "text/plain": [
       "Index(['name', 'address', 'city', 'state', 'zip', 'phone',\n",
       "       'hours_of_operation', 'latitude', 'longitude', 'url', 'location_type'],\n",
       "      dtype='object')"
      ]
     },
     "execution_count": 67,
     "metadata": {},
     "output_type": "execute_result"
    }
   ],
   "source": [
    "#library_df.columns\n",
    "ward49_df.columns"
   ]
  },
  {
   "cell_type": "code",
   "execution_count": 68,
   "metadata": {},
   "outputs": [
    {
     "data": {
      "text/plain": [
       "['Library', 'High School', 'Elementary School']"
      ]
     },
     "execution_count": 68,
     "metadata": {},
     "output_type": "execute_result"
    }
   ],
   "source": [
    "# get list of location types\n",
    "location_type_list = ward49_df['location_type'].drop_duplicates().to_list()\n",
    "location_type_list"
   ]
  },
  {
   "cell_type": "code",
   "execution_count": 69,
   "metadata": {},
   "outputs": [
    {
     "name": "stdout",
     "output_type": "stream",
     "text": [
      "The geographical coordinates of Rogers Park, Chicago, IL are 42.0090367, -87.6768492\n"
     ]
    }
   ],
   "source": [
    "# Get coordinates for Chicago\n",
    "#address = 'Chicago, IL'\n",
    "address = 'Rogers Park, Chicago, IL'\n",
    "geolocator = Nominatim(user_agent='chi_explorer')\n",
    "location = geolocator.geocode(address)\n",
    "latitude = location.latitude\n",
    "longitude = location.longitude\n",
    "\n",
    "print(\"The geographical coordinates of Rogers Park, Chicago, IL are {}, {}\".format(latitude, longitude))"
   ]
  },
  {
   "cell_type": "markdown",
   "metadata": {},
   "source": [
    "## Create fixed map"
   ]
  },
  {
   "cell_type": "code",
   "execution_count": 70,
   "metadata": {},
   "outputs": [],
   "source": [
    "# Create a map\n",
    "chicago_map = folium.Map(location=[latitude, longitude],\n",
    "                         zoom_start=14)"
   ]
  },
  {
   "cell_type": "code",
   "execution_count": 71,
   "metadata": {
    "scrolled": true
   },
   "outputs": [],
   "source": [
    "# Add markers to the map\n",
    "for lat, lon, name in zip(ward49_df['latitude'],\n",
    "                          ward49_df['longitude'],\n",
    "                          ward49_df['name']):\n",
    "    label = folium.Popup(str(name), parse_html=True)\n",
    "    folium.CircleMarker(\n",
    "       [lat, lon],\n",
    "       radius=5,\n",
    "       popup=label,\n",
    "       fill=True,\n",
    "       fill_opacity=0.7).add_to(chicago_map)"
   ]
  },
  {
   "cell_type": "code",
   "execution_count": 72,
   "metadata": {},
   "outputs": [
    {
     "data": {
      "text/html": [
       "<div style=\"width:100%;\"><div style=\"position:relative;width:100%;height:0;padding-bottom:60%;\"><iframe src=\"data:text/html;charset=utf-8;base64,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\" style=\"position:absolute;width:100%;height:100%;left:0;top:0;border:none !important;\" allowfullscreen webkitallowfullscreen mozallowfullscreen></iframe></div></div>"
      ],
      "text/plain": [
       "<folium.folium.Map at 0x1b59b694b38>"
      ]
     },
     "execution_count": 72,
     "metadata": {},
     "output_type": "execute_result"
    }
   ],
   "source": [
    "# Display the map\n",
    "chicago_map"
   ]
  },
  {
   "cell_type": "markdown",
   "metadata": {},
   "source": [
    "## Try different marker types"
   ]
  },
  {
   "cell_type": "code",
   "execution_count": 73,
   "metadata": {},
   "outputs": [],
   "source": [
    "# Create a map\n",
    "#chicago_map = folium.Map(location=[latitude, longitude],\n",
    "#                         zoom_start=14)"
   ]
  },
  {
   "cell_type": "code",
   "execution_count": 74,
   "metadata": {},
   "outputs": [],
   "source": [
    "# Add markers to the map\n",
    "#for lat, lon, name in zip(ward49_df['latitude'],\n",
    "#                          ward49_df['longitude'],\n",
    "#                          ward49_df['name']):\n",
    "#    label = folium.Popup(str(name), parse_html=True)\n",
    "#    folium.CircleMarker(\n",
    "#       [lat, lon],\n",
    "#       radius=5,\n",
    "#       popup=label,\n",
    "#       fill=True,\n",
    "#       fill_opacity=0.7).add_to(chicago_map)"
   ]
  },
  {
   "cell_type": "markdown",
   "metadata": {},
   "source": [
    "## Test interactive map"
   ]
  },
  {
   "cell_type": "code",
   "execution_count": 75,
   "metadata": {},
   "outputs": [],
   "source": [
    "# Create a map\n",
    "chicago_map = folium.Map(location=[latitude, longitude],\n",
    "                         zoom_start=14)"
   ]
  },
  {
   "cell_type": "code",
   "execution_count": 76,
   "metadata": {},
   "outputs": [
    {
     "data": {
      "text/html": [
       "<div>\n",
       "<style scoped>\n",
       "    .dataframe tbody tr th:only-of-type {\n",
       "        vertical-align: middle;\n",
       "    }\n",
       "\n",
       "    .dataframe tbody tr th {\n",
       "        vertical-align: top;\n",
       "    }\n",
       "\n",
       "    .dataframe thead th {\n",
       "        text-align: right;\n",
       "    }\n",
       "</style>\n",
       "<table border=\"1\" class=\"dataframe\">\n",
       "  <thead>\n",
       "    <tr style=\"text-align: right;\">\n",
       "      <th></th>\n",
       "      <th>latitude</th>\n",
       "      <th>longitude</th>\n",
       "    </tr>\n",
       "  </thead>\n",
       "  <tbody>\n",
       "    <tr>\n",
       "      <th>0</th>\n",
       "      <td>42.006708</td>\n",
       "      <td>-87.673408</td>\n",
       "    </tr>\n",
       "  </tbody>\n",
       "</table>\n",
       "</div>"
      ],
      "text/plain": [
       "    latitude  longitude\n",
       "0  42.006708 -87.673408"
      ]
     },
     "execution_count": 76,
     "metadata": {},
     "output_type": "execute_result"
    }
   ],
   "source": [
    "#ward49_df[ward49_df['location_type'] == 'Library']\n",
    "ward49_df[ward49_df['location_type'] == 'Library'][['latitude','longitude']]"
   ]
  },
  {
   "cell_type": "code",
   "execution_count": 77,
   "metadata": {},
   "outputs": [],
   "source": [
    "points1 = [(42.006708, -87.673408)]\n",
    "\n",
    "library_group = folium.FeatureGroup(name='Library').add_to(chicago_map)\n",
    "\n",
    "for tuple_ in points1:\n",
    "    label = folium.Popup('Rogers Park Library', parse_html=True)\n",
    "    library_group.add_child(folium.CircleMarker(\n",
    "        (42.006708, -87.673408),\n",
    "        radius=5,\n",
    "        popup=label,\n",
    "        fill=True,\n",
    "        fill_opacity=0.7)\n",
    "    )"
   ]
  },
  {
   "cell_type": "code",
   "execution_count": 78,
   "metadata": {
    "scrolled": true
   },
   "outputs": [
    {
     "data": {
      "text/html": [
       "<div>\n",
       "<style scoped>\n",
       "    .dataframe tbody tr th:only-of-type {\n",
       "        vertical-align: middle;\n",
       "    }\n",
       "\n",
       "    .dataframe tbody tr th {\n",
       "        vertical-align: top;\n",
       "    }\n",
       "\n",
       "    .dataframe thead th {\n",
       "        text-align: right;\n",
       "    }\n",
       "</style>\n",
       "<table border=\"1\" class=\"dataframe\">\n",
       "  <thead>\n",
       "    <tr style=\"text-align: right;\">\n",
       "      <th></th>\n",
       "      <th>latitude</th>\n",
       "      <th>longitude</th>\n",
       "    </tr>\n",
       "  </thead>\n",
       "  <tbody>\n",
       "    <tr>\n",
       "      <th>1</th>\n",
       "      <td>42.002688</td>\n",
       "      <td>-87.669192</td>\n",
       "    </tr>\n",
       "    <tr>\n",
       "      <th>6</th>\n",
       "      <td>42.013031</td>\n",
       "      <td>-87.674818</td>\n",
       "    </tr>\n",
       "  </tbody>\n",
       "</table>\n",
       "</div>"
      ],
      "text/plain": [
       "    latitude  longitude\n",
       "1  42.002688 -87.669192\n",
       "6  42.013031 -87.674818"
      ]
     },
     "execution_count": 78,
     "metadata": {},
     "output_type": "execute_result"
    }
   ],
   "source": [
    "ward49_df[ward49_df['location_type'] == 'High School'][['latitude','longitude']]"
   ]
  },
  {
   "cell_type": "code",
   "execution_count": 79,
   "metadata": {},
   "outputs": [],
   "source": [
    "points2 = [(42.002688, -87.669192),\n",
    "           (42.013031, -87.674818)]\n",
    "\n",
    "hs_group = folium.FeatureGroup(name='High School').add_to(chicago_map)\n",
    "\n",
    "for tuple_ in points2:\n",
    "    label = folium.Popup('High School', parse_html=True)\n",
    "    hs_group.add_child(folium.CircleMarker(\n",
    "        tuple_,\n",
    "        radius=5,\n",
    "        popup=label,\n",
    "        fill=True,\n",
    "        fill_opacity=0.7)\n",
    "    )"
   ]
  },
  {
   "cell_type": "code",
   "execution_count": 80,
   "metadata": {
    "scrolled": true
   },
   "outputs": [
    {
     "data": {
      "text/html": [
       "<div style=\"width:100%;\"><div style=\"position:relative;width:100%;height:0;padding-bottom:60%;\"><iframe src=\"data:text/html;charset=utf-8;base64,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\" style=\"position:absolute;width:100%;height:100%;left:0;top:0;border:none !important;\" allowfullscreen webkitallowfullscreen mozallowfullscreen></iframe></div></div>"
      ],
      "text/plain": [
       "<folium.folium.Map at 0x1b59bb11be0>"
      ]
     },
     "execution_count": 80,
     "metadata": {},
     "output_type": "execute_result"
    }
   ],
   "source": [
    "folium.LayerControl().add_to(chicago_map)\n",
    "chicago_map"
   ]
  },
  {
   "cell_type": "markdown",
   "metadata": {},
   "source": [
    "## Create Interactive Map"
   ]
  },
  {
   "cell_type": "code",
   "execution_count": 81,
   "metadata": {},
   "outputs": [],
   "source": [
    "# Create a map\n",
    "chicago_map = folium.Map(location=[latitude, longitude],\n",
    "                         zoom_start=14)"
   ]
  },
  {
   "cell_type": "code",
   "execution_count": 82,
   "metadata": {},
   "outputs": [],
   "source": [
    "fgroup = []"
   ]
  },
  {
   "cell_type": "code",
   "execution_count": 83,
   "metadata": {},
   "outputs": [
    {
     "data": {
      "text/plain": [
       "[<folium.map.FeatureGroup at 0x1b59bb64908>,\n",
       " <folium.map.FeatureGroup at 0x1b59bb39f60>,\n",
       " <folium.map.FeatureGroup at 0x1b59bb64128>]"
      ]
     },
     "execution_count": 83,
     "metadata": {},
     "output_type": "execute_result"
    }
   ],
   "source": [
    "for i in range(len(location_type_list)):\n",
    "    #print(i, location_type_list[i])\n",
    "    fgroup.append(folium.FeatureGroup(name=location_type_list[i]).add_to(chicago_map))\n",
    "    for row in ward49_df[ward49_df['location_type'] == location_type_list[i]].itertuples():\n",
    "        #print(row.name, row.latitude, row.longitude)\n",
    "        label = folium.Popup(row.name, parse_html=True)\n",
    "        fgroup[i].add_child(folium.CircleMarker(\n",
    "            [row.latitude, row.longitude],\n",
    "            radius=5,\n",
    "            popup=label,\n",
    "            fill=True,\n",
    "            fill_opacity=0.7).add_to(chicago_map)\n",
    "        )\n",
    "    \n",
    "fgroup"
   ]
  },
  {
   "cell_type": "code",
   "execution_count": 84,
   "metadata": {
    "scrolled": true
   },
   "outputs": [
    {
     "data": {
      "text/html": [
       "<div style=\"width:100%;\"><div style=\"position:relative;width:100%;height:0;padding-bottom:60%;\"><iframe src=\"data:text/html;charset=utf-8;base64,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\" style=\"position:absolute;width:100%;height:100%;left:0;top:0;border:none !important;\" allowfullscreen webkitallowfullscreen mozallowfullscreen></iframe></div></div>"
      ],
      "text/plain": [
       "<folium.folium.Map at 0x1b59bb423c8>"
      ]
     },
     "execution_count": 84,
     "metadata": {},
     "output_type": "execute_result"
    }
   ],
   "source": [
    "folium.LayerControl().add_to(chicago_map)\n",
    "chicago_map"
   ]
  }
 ],
 "metadata": {
  "kernelspec": {
   "display_name": "Python 3",
   "language": "python",
   "name": "python3"
  },
  "language_info": {
   "codemirror_mode": {
    "name": "ipython",
    "version": 3
   },
   "file_extension": ".py",
   "mimetype": "text/x-python",
   "name": "python",
   "nbconvert_exporter": "python",
   "pygments_lexer": "ipython3",
   "version": "3.7.3"
  }
 },
 "nbformat": 4,
 "nbformat_minor": 4
}
