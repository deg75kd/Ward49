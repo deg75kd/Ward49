{
 "cells": [
  {
   "cell_type": "code",
   "execution_count": 1,
   "metadata": {},
   "outputs": [],
   "source": [
    "# Import pandas library using an alias\n",
    "import pandas as pd\n",
    "# library to handle data in a vectorized manner\n",
    "import numpy as np\n",
    "\n",
    "# library to handle JSON files\n",
    "# import json\n",
    "# library to handle requests\n",
    "# import requests\n",
    "# tranform JSON file into a pandas dataframe\n",
    "# from pandas.io.json import json_normalize\n",
    "\n",
    "# convert an address into latitude and longitude values\n",
    "from geopy.geocoders import Nominatim\n",
    "\n",
    "import plotly.express as px"
   ]
  },
  {
   "cell_type": "code",
   "execution_count": 2,
   "metadata": {
    "scrolled": true
   },
   "outputs": [
    {
     "data": {
      "text/html": [
       "<div>\n",
       "<style scoped>\n",
       "    .dataframe tbody tr th:only-of-type {\n",
       "        vertical-align: middle;\n",
       "    }\n",
       "\n",
       "    .dataframe tbody tr th {\n",
       "        vertical-align: top;\n",
       "    }\n",
       "\n",
       "    .dataframe thead th {\n",
       "        text-align: right;\n",
       "    }\n",
       "</style>\n",
       "<table border=\"1\" class=\"dataframe\">\n",
       "  <thead>\n",
       "    <tr style=\"text-align: right;\">\n",
       "      <th></th>\n",
       "      <th>name</th>\n",
       "      <th>address</th>\n",
       "      <th>city</th>\n",
       "      <th>state</th>\n",
       "      <th>zip</th>\n",
       "      <th>phone</th>\n",
       "      <th>hours_of_operation</th>\n",
       "      <th>latitude</th>\n",
       "      <th>longitude</th>\n",
       "      <th>url</th>\n",
       "      <th>location_type</th>\n",
       "    </tr>\n",
       "  </thead>\n",
       "  <tbody>\n",
       "    <tr>\n",
       "      <th>0</th>\n",
       "      <td>Rogers Park</td>\n",
       "      <td>6907 N. Clark St.</td>\n",
       "      <td>Chicago</td>\n",
       "      <td>IL</td>\n",
       "      <td>60626.0</td>\n",
       "      <td>(312) 744-0156</td>\n",
       "      <td>Sun., Closed; Mon. &amp; Wed., Noon-8; Tue. &amp; Thu....</td>\n",
       "      <td>42.006708</td>\n",
       "      <td>-87.673408</td>\n",
       "      <td>https://www.chipublib.org/locations/61/</td>\n",
       "      <td>Library</td>\n",
       "    </tr>\n",
       "    <tr>\n",
       "      <th>1</th>\n",
       "      <td>SULLIVAN HS</td>\n",
       "      <td>6631 N BOSWORTH AVE</td>\n",
       "      <td>NaN</td>\n",
       "      <td>NaN</td>\n",
       "      <td>NaN</td>\n",
       "      <td>NaN</td>\n",
       "      <td>NaN</td>\n",
       "      <td>42.002688</td>\n",
       "      <td>-87.669192</td>\n",
       "      <td>NaN</td>\n",
       "      <td>High School</td>\n",
       "    </tr>\n",
       "    <tr>\n",
       "      <th>2</th>\n",
       "      <td>GALE</td>\n",
       "      <td>1631 W JONQUIL TER</td>\n",
       "      <td>NaN</td>\n",
       "      <td>NaN</td>\n",
       "      <td>NaN</td>\n",
       "      <td>NaN</td>\n",
       "      <td>NaN</td>\n",
       "      <td>42.021091</td>\n",
       "      <td>-87.671939</td>\n",
       "      <td>NaN</td>\n",
       "      <td>Elementary School</td>\n",
       "    </tr>\n",
       "    <tr>\n",
       "      <th>3</th>\n",
       "      <td>ACERO - DE LA CRUZ</td>\n",
       "      <td>7416 N RIDGE BLVD</td>\n",
       "      <td>NaN</td>\n",
       "      <td>NaN</td>\n",
       "      <td>NaN</td>\n",
       "      <td>NaN</td>\n",
       "      <td>NaN</td>\n",
       "      <td>42.016476</td>\n",
       "      <td>-87.684406</td>\n",
       "      <td>NaN</td>\n",
       "      <td>Elementary School</td>\n",
       "    </tr>\n",
       "    <tr>\n",
       "      <th>4</th>\n",
       "      <td>FIELD</td>\n",
       "      <td>7019 N ASHLAND AVE</td>\n",
       "      <td>NaN</td>\n",
       "      <td>NaN</td>\n",
       "      <td>NaN</td>\n",
       "      <td>NaN</td>\n",
       "      <td>NaN</td>\n",
       "      <td>42.009664</td>\n",
       "      <td>-87.669985</td>\n",
       "      <td>NaN</td>\n",
       "      <td>Elementary School</td>\n",
       "    </tr>\n",
       "  </tbody>\n",
       "</table>\n",
       "</div>"
      ],
      "text/plain": [
       "                 name              address     city state      zip  \\\n",
       "0         Rogers Park    6907 N. Clark St.  Chicago    IL  60626.0   \n",
       "1         SULLIVAN HS  6631 N BOSWORTH AVE      NaN   NaN      NaN   \n",
       "2                GALE   1631 W JONQUIL TER      NaN   NaN      NaN   \n",
       "3  ACERO - DE LA CRUZ    7416 N RIDGE BLVD      NaN   NaN      NaN   \n",
       "4               FIELD   7019 N ASHLAND AVE      NaN   NaN      NaN   \n",
       "\n",
       "            phone                                 hours_of_operation  \\\n",
       "0  (312) 744-0156  Sun., Closed; Mon. & Wed., Noon-8; Tue. & Thu....   \n",
       "1             NaN                                                NaN   \n",
       "2             NaN                                                NaN   \n",
       "3             NaN                                                NaN   \n",
       "4             NaN                                                NaN   \n",
       "\n",
       "    latitude  longitude                                      url  \\\n",
       "0  42.006708 -87.673408  https://www.chipublib.org/locations/61/   \n",
       "1  42.002688 -87.669192                                      NaN   \n",
       "2  42.021091 -87.671939                                      NaN   \n",
       "3  42.016476 -87.684406                                      NaN   \n",
       "4  42.009664 -87.669985                                      NaN   \n",
       "\n",
       "       location_type  \n",
       "0            Library  \n",
       "1        High School  \n",
       "2  Elementary School  \n",
       "3  Elementary School  \n",
       "4  Elementary School  "
      ]
     },
     "execution_count": 2,
     "metadata": {},
     "output_type": "execute_result"
    }
   ],
   "source": [
    "#library_df = pd.read_excel('ChicagoLibraries.xlsx')\n",
    "#library_df.head()\n",
    "ward49_df = pd.read_excel('Ward49.xlsx')\n",
    "ward49_df.head()"
   ]
  },
  {
   "cell_type": "code",
   "execution_count": 3,
   "metadata": {},
   "outputs": [
    {
     "data": {
      "text/plain": [
       "Index(['name', 'address', 'city', 'state', 'zip', 'phone',\n",
       "       'hours_of_operation', 'latitude', 'longitude', 'url', 'location_type'],\n",
       "      dtype='object')"
      ]
     },
     "execution_count": 3,
     "metadata": {},
     "output_type": "execute_result"
    }
   ],
   "source": [
    "#library_df.columns\n",
    "ward49_df.columns"
   ]
  },
  {
   "cell_type": "code",
   "execution_count": 4,
   "metadata": {},
   "outputs": [
    {
     "data": {
      "text/plain": [
       "['Library', 'High School', 'Elementary School']"
      ]
     },
     "execution_count": 4,
     "metadata": {},
     "output_type": "execute_result"
    }
   ],
   "source": [
    "# get list of location types\n",
    "location_type_list = ward49_df['location_type'].drop_duplicates().to_list()\n",
    "location_type_list"
   ]
  },
  {
   "cell_type": "code",
   "execution_count": 5,
   "metadata": {},
   "outputs": [
    {
     "name": "stdout",
     "output_type": "stream",
     "text": [
      "The geographical coordinates of Rogers Park, Chicago, IL are 42.0090367, -87.6768492\n"
     ]
    }
   ],
   "source": [
    "# Get coordinates for Chicago\n",
    "#address = 'Chicago, IL'\n",
    "address = 'Rogers Park, Chicago, IL'\n",
    "geolocator = Nominatim(user_agent='chi_explorer')\n",
    "location = geolocator.geocode(address)\n",
    "latitude = location.latitude\n",
    "longitude = location.longitude\n",
    "\n",
    "print(\"The geographical coordinates of Rogers Park, Chicago, IL are {}, {}\".format(latitude, longitude))"
   ]
  },
  {
   "cell_type": "markdown",
   "metadata": {},
   "source": [
    "## Create basic map"
   ]
  },
  {
   "cell_type": "code",
   "execution_count": 18,
   "metadata": {},
   "outputs": [
    {
     "data": {
      "application/vnd.plotly.v1+json": {
       "config": {
        "plotlyServerURL": "https://plot.ly"
       },
       "data": [
        {
         "customdata": [
          [
           "Rogers Park",
           "6907 N. Clark St."
          ],
          [
           "SULLIVAN HS",
           "6631 N BOSWORTH AVE"
          ],
          [
           "GALE",
           "1631 W JONQUIL TER"
          ],
          [
           "ACERO - DE LA CRUZ",
           "7416 N RIDGE BLVD"
          ],
          [
           "FIELD",
           "7019 N ASHLAND AVE"
          ],
          [
           "JORDAN",
           "7414 N WOLCOTT AVE"
          ],
          [
           "CHICAGO MATH & SCIENCE HS",
           "7212 N CLARK ST"
          ],
          [
           "KILMER",
           "6700 N GREENVIEW AVE"
          ],
          [
           "NEW FIELD",
           "1707 W MORSE AVE"
          ]
         ],
         "hovertemplate": "latitude=%{lat}<br>longitude=%{lon}<br>name=%{customdata[0]}<br>address=%{customdata[1]}<extra></extra>",
         "lat": [
          42.00670763656976,
          42.00268756,
          42.02109056,
          42.01647588,
          42.00966386,
          42.01708759,
          42.01303149,
          42.00364046,
          42.00770257
         ],
         "legendgroup": "",
         "lon": [
          -87.6734076726854,
          -87.66919215,
          -87.67193898,
          -87.68440568,
          -87.6699854,
          -87.67776252,
          -87.67481842,
          -87.66822247,
          -87.67316833
         ],
         "marker": {
          "color": "#636efa"
         },
         "mode": "markers",
         "name": "",
         "showlegend": false,
         "subplot": "mapbox",
         "type": "scattermapbox"
        }
       ],
       "layout": {
        "legend": {
         "tracegroupgap": 0
        },
        "mapbox": {
         "accesstoken": "pk.eyJ1IjoiZGVnNzVrZCIsImEiOiJja250cHVydWkwNGdsMnBxYTkzdGwwamNsIn0.Wirb5W7I1wvtWv1zdYVUgQ",
         "center": {
          "lat": 42.0108986229522,
          "lon": -87.67365573585393
         },
         "domain": {
          "x": [
           0,
           1
          ],
          "y": [
           0,
           1
          ]
         },
         "style": "open-street-map",
         "zoom": 12
        },
        "margin": {
         "t": 60
        },
        "template": {
         "data": {
          "bar": [
           {
            "error_x": {
             "color": "#2a3f5f"
            },
            "error_y": {
             "color": "#2a3f5f"
            },
            "marker": {
             "line": {
              "color": "#E5ECF6",
              "width": 0.5
             }
            },
            "type": "bar"
           }
          ],
          "barpolar": [
           {
            "marker": {
             "line": {
              "color": "#E5ECF6",
              "width": 0.5
             }
            },
            "type": "barpolar"
           }
          ],
          "carpet": [
           {
            "aaxis": {
             "endlinecolor": "#2a3f5f",
             "gridcolor": "white",
             "linecolor": "white",
             "minorgridcolor": "white",
             "startlinecolor": "#2a3f5f"
            },
            "baxis": {
             "endlinecolor": "#2a3f5f",
             "gridcolor": "white",
             "linecolor": "white",
             "minorgridcolor": "white",
             "startlinecolor": "#2a3f5f"
            },
            "type": "carpet"
           }
          ],
          "choropleth": [
           {
            "colorbar": {
             "outlinewidth": 0,
             "ticks": ""
            },
            "type": "choropleth"
           }
          ],
          "contour": [
           {
            "colorbar": {
             "outlinewidth": 0,
             "ticks": ""
            },
            "colorscale": [
             [
              0,
              "#0d0887"
             ],
             [
              0.1111111111111111,
              "#46039f"
             ],
             [
              0.2222222222222222,
              "#7201a8"
             ],
             [
              0.3333333333333333,
              "#9c179e"
             ],
             [
              0.4444444444444444,
              "#bd3786"
             ],
             [
              0.5555555555555556,
              "#d8576b"
             ],
             [
              0.6666666666666666,
              "#ed7953"
             ],
             [
              0.7777777777777778,
              "#fb9f3a"
             ],
             [
              0.8888888888888888,
              "#fdca26"
             ],
             [
              1,
              "#f0f921"
             ]
            ],
            "type": "contour"
           }
          ],
          "contourcarpet": [
           {
            "colorbar": {
             "outlinewidth": 0,
             "ticks": ""
            },
            "type": "contourcarpet"
           }
          ],
          "heatmap": [
           {
            "colorbar": {
             "outlinewidth": 0,
             "ticks": ""
            },
            "colorscale": [
             [
              0,
              "#0d0887"
             ],
             [
              0.1111111111111111,
              "#46039f"
             ],
             [
              0.2222222222222222,
              "#7201a8"
             ],
             [
              0.3333333333333333,
              "#9c179e"
             ],
             [
              0.4444444444444444,
              "#bd3786"
             ],
             [
              0.5555555555555556,
              "#d8576b"
             ],
             [
              0.6666666666666666,
              "#ed7953"
             ],
             [
              0.7777777777777778,
              "#fb9f3a"
             ],
             [
              0.8888888888888888,
              "#fdca26"
             ],
             [
              1,
              "#f0f921"
             ]
            ],
            "type": "heatmap"
           }
          ],
          "heatmapgl": [
           {
            "colorbar": {
             "outlinewidth": 0,
             "ticks": ""
            },
            "colorscale": [
             [
              0,
              "#0d0887"
             ],
             [
              0.1111111111111111,
              "#46039f"
             ],
             [
              0.2222222222222222,
              "#7201a8"
             ],
             [
              0.3333333333333333,
              "#9c179e"
             ],
             [
              0.4444444444444444,
              "#bd3786"
             ],
             [
              0.5555555555555556,
              "#d8576b"
             ],
             [
              0.6666666666666666,
              "#ed7953"
             ],
             [
              0.7777777777777778,
              "#fb9f3a"
             ],
             [
              0.8888888888888888,
              "#fdca26"
             ],
             [
              1,
              "#f0f921"
             ]
            ],
            "type": "heatmapgl"
           }
          ],
          "histogram": [
           {
            "marker": {
             "colorbar": {
              "outlinewidth": 0,
              "ticks": ""
             }
            },
            "type": "histogram"
           }
          ],
          "histogram2d": [
           {
            "colorbar": {
             "outlinewidth": 0,
             "ticks": ""
            },
            "colorscale": [
             [
              0,
              "#0d0887"
             ],
             [
              0.1111111111111111,
              "#46039f"
             ],
             [
              0.2222222222222222,
              "#7201a8"
             ],
             [
              0.3333333333333333,
              "#9c179e"
             ],
             [
              0.4444444444444444,
              "#bd3786"
             ],
             [
              0.5555555555555556,
              "#d8576b"
             ],
             [
              0.6666666666666666,
              "#ed7953"
             ],
             [
              0.7777777777777778,
              "#fb9f3a"
             ],
             [
              0.8888888888888888,
              "#fdca26"
             ],
             [
              1,
              "#f0f921"
             ]
            ],
            "type": "histogram2d"
           }
          ],
          "histogram2dcontour": [
           {
            "colorbar": {
             "outlinewidth": 0,
             "ticks": ""
            },
            "colorscale": [
             [
              0,
              "#0d0887"
             ],
             [
              0.1111111111111111,
              "#46039f"
             ],
             [
              0.2222222222222222,
              "#7201a8"
             ],
             [
              0.3333333333333333,
              "#9c179e"
             ],
             [
              0.4444444444444444,
              "#bd3786"
             ],
             [
              0.5555555555555556,
              "#d8576b"
             ],
             [
              0.6666666666666666,
              "#ed7953"
             ],
             [
              0.7777777777777778,
              "#fb9f3a"
             ],
             [
              0.8888888888888888,
              "#fdca26"
             ],
             [
              1,
              "#f0f921"
             ]
            ],
            "type": "histogram2dcontour"
           }
          ],
          "mesh3d": [
           {
            "colorbar": {
             "outlinewidth": 0,
             "ticks": ""
            },
            "type": "mesh3d"
           }
          ],
          "parcoords": [
           {
            "line": {
             "colorbar": {
              "outlinewidth": 0,
              "ticks": ""
             }
            },
            "type": "parcoords"
           }
          ],
          "pie": [
           {
            "automargin": true,
            "type": "pie"
           }
          ],
          "scatter": [
           {
            "marker": {
             "colorbar": {
              "outlinewidth": 0,
              "ticks": ""
             }
            },
            "type": "scatter"
           }
          ],
          "scatter3d": [
           {
            "line": {
             "colorbar": {
              "outlinewidth": 0,
              "ticks": ""
             }
            },
            "marker": {
             "colorbar": {
              "outlinewidth": 0,
              "ticks": ""
             }
            },
            "type": "scatter3d"
           }
          ],
          "scattercarpet": [
           {
            "marker": {
             "colorbar": {
              "outlinewidth": 0,
              "ticks": ""
             }
            },
            "type": "scattercarpet"
           }
          ],
          "scattergeo": [
           {
            "marker": {
             "colorbar": {
              "outlinewidth": 0,
              "ticks": ""
             }
            },
            "type": "scattergeo"
           }
          ],
          "scattergl": [
           {
            "marker": {
             "colorbar": {
              "outlinewidth": 0,
              "ticks": ""
             }
            },
            "type": "scattergl"
           }
          ],
          "scattermapbox": [
           {
            "marker": {
             "colorbar": {
              "outlinewidth": 0,
              "ticks": ""
             }
            },
            "type": "scattermapbox"
           }
          ],
          "scatterpolar": [
           {
            "marker": {
             "colorbar": {
              "outlinewidth": 0,
              "ticks": ""
             }
            },
            "type": "scatterpolar"
           }
          ],
          "scatterpolargl": [
           {
            "marker": {
             "colorbar": {
              "outlinewidth": 0,
              "ticks": ""
             }
            },
            "type": "scatterpolargl"
           }
          ],
          "scatterternary": [
           {
            "marker": {
             "colorbar": {
              "outlinewidth": 0,
              "ticks": ""
             }
            },
            "type": "scatterternary"
           }
          ],
          "surface": [
           {
            "colorbar": {
             "outlinewidth": 0,
             "ticks": ""
            },
            "colorscale": [
             [
              0,
              "#0d0887"
             ],
             [
              0.1111111111111111,
              "#46039f"
             ],
             [
              0.2222222222222222,
              "#7201a8"
             ],
             [
              0.3333333333333333,
              "#9c179e"
             ],
             [
              0.4444444444444444,
              "#bd3786"
             ],
             [
              0.5555555555555556,
              "#d8576b"
             ],
             [
              0.6666666666666666,
              "#ed7953"
             ],
             [
              0.7777777777777778,
              "#fb9f3a"
             ],
             [
              0.8888888888888888,
              "#fdca26"
             ],
             [
              1,
              "#f0f921"
             ]
            ],
            "type": "surface"
           }
          ],
          "table": [
           {
            "cells": {
             "fill": {
              "color": "#EBF0F8"
             },
             "line": {
              "color": "white"
             }
            },
            "header": {
             "fill": {
              "color": "#C8D4E3"
             },
             "line": {
              "color": "white"
             }
            },
            "type": "table"
           }
          ]
         },
         "layout": {
          "annotationdefaults": {
           "arrowcolor": "#2a3f5f",
           "arrowhead": 0,
           "arrowwidth": 1
          },
          "autotypenumbers": "strict",
          "coloraxis": {
           "colorbar": {
            "outlinewidth": 0,
            "ticks": ""
           }
          },
          "colorscale": {
           "diverging": [
            [
             0,
             "#8e0152"
            ],
            [
             0.1,
             "#c51b7d"
            ],
            [
             0.2,
             "#de77ae"
            ],
            [
             0.3,
             "#f1b6da"
            ],
            [
             0.4,
             "#fde0ef"
            ],
            [
             0.5,
             "#f7f7f7"
            ],
            [
             0.6,
             "#e6f5d0"
            ],
            [
             0.7,
             "#b8e186"
            ],
            [
             0.8,
             "#7fbc41"
            ],
            [
             0.9,
             "#4d9221"
            ],
            [
             1,
             "#276419"
            ]
           ],
           "sequential": [
            [
             0,
             "#0d0887"
            ],
            [
             0.1111111111111111,
             "#46039f"
            ],
            [
             0.2222222222222222,
             "#7201a8"
            ],
            [
             0.3333333333333333,
             "#9c179e"
            ],
            [
             0.4444444444444444,
             "#bd3786"
            ],
            [
             0.5555555555555556,
             "#d8576b"
            ],
            [
             0.6666666666666666,
             "#ed7953"
            ],
            [
             0.7777777777777778,
             "#fb9f3a"
            ],
            [
             0.8888888888888888,
             "#fdca26"
            ],
            [
             1,
             "#f0f921"
            ]
           ],
           "sequentialminus": [
            [
             0,
             "#0d0887"
            ],
            [
             0.1111111111111111,
             "#46039f"
            ],
            [
             0.2222222222222222,
             "#7201a8"
            ],
            [
             0.3333333333333333,
             "#9c179e"
            ],
            [
             0.4444444444444444,
             "#bd3786"
            ],
            [
             0.5555555555555556,
             "#d8576b"
            ],
            [
             0.6666666666666666,
             "#ed7953"
            ],
            [
             0.7777777777777778,
             "#fb9f3a"
            ],
            [
             0.8888888888888888,
             "#fdca26"
            ],
            [
             1,
             "#f0f921"
            ]
           ]
          },
          "colorway": [
           "#636efa",
           "#EF553B",
           "#00cc96",
           "#ab63fa",
           "#FFA15A",
           "#19d3f3",
           "#FF6692",
           "#B6E880",
           "#FF97FF",
           "#FECB52"
          ],
          "font": {
           "color": "#2a3f5f"
          },
          "geo": {
           "bgcolor": "white",
           "lakecolor": "white",
           "landcolor": "#E5ECF6",
           "showlakes": true,
           "showland": true,
           "subunitcolor": "white"
          },
          "hoverlabel": {
           "align": "left"
          },
          "hovermode": "closest",
          "mapbox": {
           "style": "light"
          },
          "paper_bgcolor": "white",
          "plot_bgcolor": "#E5ECF6",
          "polar": {
           "angularaxis": {
            "gridcolor": "white",
            "linecolor": "white",
            "ticks": ""
           },
           "bgcolor": "#E5ECF6",
           "radialaxis": {
            "gridcolor": "white",
            "linecolor": "white",
            "ticks": ""
           }
          },
          "scene": {
           "xaxis": {
            "backgroundcolor": "#E5ECF6",
            "gridcolor": "white",
            "gridwidth": 2,
            "linecolor": "white",
            "showbackground": true,
            "ticks": "",
            "zerolinecolor": "white"
           },
           "yaxis": {
            "backgroundcolor": "#E5ECF6",
            "gridcolor": "white",
            "gridwidth": 2,
            "linecolor": "white",
            "showbackground": true,
            "ticks": "",
            "zerolinecolor": "white"
           },
           "zaxis": {
            "backgroundcolor": "#E5ECF6",
            "gridcolor": "white",
            "gridwidth": 2,
            "linecolor": "white",
            "showbackground": true,
            "ticks": "",
            "zerolinecolor": "white"
           }
          },
          "shapedefaults": {
           "line": {
            "color": "#2a3f5f"
           }
          },
          "ternary": {
           "aaxis": {
            "gridcolor": "white",
            "linecolor": "white",
            "ticks": ""
           },
           "baxis": {
            "gridcolor": "white",
            "linecolor": "white",
            "ticks": ""
           },
           "bgcolor": "#E5ECF6",
           "caxis": {
            "gridcolor": "white",
            "linecolor": "white",
            "ticks": ""
           }
          },
          "title": {
           "x": 0.05
          },
          "xaxis": {
           "automargin": true,
           "gridcolor": "white",
           "linecolor": "white",
           "ticks": "",
           "title": {
            "standoff": 15
           },
           "zerolinecolor": "white",
           "zerolinewidth": 2
          },
          "yaxis": {
           "automargin": true,
           "gridcolor": "white",
           "linecolor": "white",
           "ticks": "",
           "title": {
            "standoff": 15
           },
           "zerolinecolor": "white",
           "zerolinewidth": 2
          }
         }
        }
       }
      },
      "text/html": [
       "<div>                            <div id=\"532373d5-07da-44e6-a90d-0388c17d11c8\" class=\"plotly-graph-div\" style=\"height:525px; width:100%;\"></div>            <script type=\"text/javascript\">                require([\"plotly\"], function(Plotly) {                    window.PLOTLYENV=window.PLOTLYENV || {};                                    if (document.getElementById(\"532373d5-07da-44e6-a90d-0388c17d11c8\")) {                    Plotly.newPlot(                        \"532373d5-07da-44e6-a90d-0388c17d11c8\",                        [{\"customdata\": [[\"Rogers Park\", \"6907 N. Clark St.\"], [\"SULLIVAN HS\", \"6631 N BOSWORTH AVE\"], [\"GALE\", \"1631 W JONQUIL TER\"], [\"ACERO - DE LA CRUZ\", \"7416 N RIDGE BLVD\"], [\"FIELD\", \"7019 N ASHLAND AVE\"], [\"JORDAN\", \"7414 N WOLCOTT AVE\"], [\"CHICAGO MATH & SCIENCE HS\", \"7212 N CLARK ST\"], [\"KILMER\", \"6700 N GREENVIEW AVE\"], [\"NEW FIELD\", \"1707 W MORSE AVE\"]], \"hovertemplate\": \"latitude=%{lat}<br>longitude=%{lon}<br>name=%{customdata[0]}<br>address=%{customdata[1]}<extra></extra>\", \"lat\": [42.00670763656976, 42.00268756, 42.02109056, 42.01647588, 42.00966386, 42.01708759, 42.01303149, 42.00364046, 42.00770257], \"legendgroup\": \"\", \"lon\": [-87.6734076726854, -87.66919215, -87.67193898, -87.68440568, -87.6699854, -87.67776252, -87.67481842, -87.66822247, -87.67316833], \"marker\": {\"color\": \"#636efa\"}, \"mode\": \"markers\", \"name\": \"\", \"showlegend\": false, \"subplot\": \"mapbox\", \"type\": \"scattermapbox\"}],                        {\"legend\": {\"tracegroupgap\": 0}, \"mapbox\": {\"accesstoken\": \"pk.eyJ1IjoiZGVnNzVrZCIsImEiOiJja250cHVydWkwNGdsMnBxYTkzdGwwamNsIn0.Wirb5W7I1wvtWv1zdYVUgQ\", \"center\": {\"lat\": 42.0108986229522, \"lon\": -87.67365573585393}, \"domain\": {\"x\": [0.0, 1.0], \"y\": [0.0, 1.0]}, \"style\": \"open-street-map\", \"zoom\": 12}, \"margin\": {\"t\": 60}, \"template\": {\"data\": {\"bar\": [{\"error_x\": {\"color\": \"#2a3f5f\"}, \"error_y\": {\"color\": \"#2a3f5f\"}, \"marker\": {\"line\": {\"color\": \"#E5ECF6\", \"width\": 0.5}}, \"type\": \"bar\"}], \"barpolar\": [{\"marker\": {\"line\": {\"color\": \"#E5ECF6\", \"width\": 0.5}}, \"type\": \"barpolar\"}], \"carpet\": [{\"aaxis\": {\"endlinecolor\": \"#2a3f5f\", \"gridcolor\": \"white\", \"linecolor\": \"white\", \"minorgridcolor\": \"white\", \"startlinecolor\": \"#2a3f5f\"}, \"baxis\": {\"endlinecolor\": \"#2a3f5f\", \"gridcolor\": \"white\", \"linecolor\": \"white\", \"minorgridcolor\": \"white\", \"startlinecolor\": \"#2a3f5f\"}, \"type\": \"carpet\"}], \"choropleth\": [{\"colorbar\": {\"outlinewidth\": 0, \"ticks\": \"\"}, \"type\": \"choropleth\"}], \"contour\": [{\"colorbar\": {\"outlinewidth\": 0, \"ticks\": \"\"}, \"colorscale\": [[0.0, \"#0d0887\"], [0.1111111111111111, \"#46039f\"], [0.2222222222222222, \"#7201a8\"], [0.3333333333333333, \"#9c179e\"], [0.4444444444444444, \"#bd3786\"], [0.5555555555555556, \"#d8576b\"], [0.6666666666666666, \"#ed7953\"], [0.7777777777777778, \"#fb9f3a\"], [0.8888888888888888, \"#fdca26\"], [1.0, \"#f0f921\"]], \"type\": \"contour\"}], \"contourcarpet\": [{\"colorbar\": {\"outlinewidth\": 0, \"ticks\": \"\"}, \"type\": \"contourcarpet\"}], \"heatmap\": [{\"colorbar\": {\"outlinewidth\": 0, \"ticks\": \"\"}, \"colorscale\": [[0.0, \"#0d0887\"], [0.1111111111111111, \"#46039f\"], [0.2222222222222222, \"#7201a8\"], [0.3333333333333333, \"#9c179e\"], [0.4444444444444444, \"#bd3786\"], [0.5555555555555556, \"#d8576b\"], [0.6666666666666666, \"#ed7953\"], [0.7777777777777778, \"#fb9f3a\"], [0.8888888888888888, \"#fdca26\"], [1.0, \"#f0f921\"]], \"type\": \"heatmap\"}], \"heatmapgl\": [{\"colorbar\": {\"outlinewidth\": 0, \"ticks\": \"\"}, \"colorscale\": [[0.0, \"#0d0887\"], [0.1111111111111111, \"#46039f\"], [0.2222222222222222, \"#7201a8\"], [0.3333333333333333, \"#9c179e\"], [0.4444444444444444, \"#bd3786\"], [0.5555555555555556, \"#d8576b\"], [0.6666666666666666, \"#ed7953\"], [0.7777777777777778, \"#fb9f3a\"], [0.8888888888888888, \"#fdca26\"], [1.0, \"#f0f921\"]], \"type\": \"heatmapgl\"}], \"histogram\": [{\"marker\": {\"colorbar\": {\"outlinewidth\": 0, \"ticks\": \"\"}}, \"type\": \"histogram\"}], \"histogram2d\": [{\"colorbar\": {\"outlinewidth\": 0, \"ticks\": \"\"}, \"colorscale\": [[0.0, \"#0d0887\"], [0.1111111111111111, \"#46039f\"], [0.2222222222222222, \"#7201a8\"], [0.3333333333333333, \"#9c179e\"], [0.4444444444444444, \"#bd3786\"], [0.5555555555555556, \"#d8576b\"], [0.6666666666666666, \"#ed7953\"], [0.7777777777777778, \"#fb9f3a\"], [0.8888888888888888, \"#fdca26\"], [1.0, \"#f0f921\"]], \"type\": \"histogram2d\"}], \"histogram2dcontour\": [{\"colorbar\": {\"outlinewidth\": 0, \"ticks\": \"\"}, \"colorscale\": [[0.0, \"#0d0887\"], [0.1111111111111111, \"#46039f\"], [0.2222222222222222, \"#7201a8\"], [0.3333333333333333, \"#9c179e\"], [0.4444444444444444, \"#bd3786\"], [0.5555555555555556, \"#d8576b\"], [0.6666666666666666, \"#ed7953\"], [0.7777777777777778, \"#fb9f3a\"], [0.8888888888888888, \"#fdca26\"], [1.0, \"#f0f921\"]], \"type\": \"histogram2dcontour\"}], \"mesh3d\": [{\"colorbar\": {\"outlinewidth\": 0, \"ticks\": \"\"}, \"type\": \"mesh3d\"}], \"parcoords\": [{\"line\": {\"colorbar\": {\"outlinewidth\": 0, \"ticks\": \"\"}}, \"type\": \"parcoords\"}], \"pie\": [{\"automargin\": true, \"type\": \"pie\"}], \"scatter\": [{\"marker\": {\"colorbar\": {\"outlinewidth\": 0, \"ticks\": \"\"}}, \"type\": \"scatter\"}], \"scatter3d\": [{\"line\": {\"colorbar\": {\"outlinewidth\": 0, \"ticks\": \"\"}}, \"marker\": {\"colorbar\": {\"outlinewidth\": 0, \"ticks\": \"\"}}, \"type\": \"scatter3d\"}], \"scattercarpet\": [{\"marker\": {\"colorbar\": {\"outlinewidth\": 0, \"ticks\": \"\"}}, \"type\": \"scattercarpet\"}], \"scattergeo\": [{\"marker\": {\"colorbar\": {\"outlinewidth\": 0, \"ticks\": \"\"}}, \"type\": \"scattergeo\"}], \"scattergl\": [{\"marker\": {\"colorbar\": {\"outlinewidth\": 0, \"ticks\": \"\"}}, \"type\": \"scattergl\"}], \"scattermapbox\": [{\"marker\": {\"colorbar\": {\"outlinewidth\": 0, \"ticks\": \"\"}}, \"type\": \"scattermapbox\"}], \"scatterpolar\": [{\"marker\": {\"colorbar\": {\"outlinewidth\": 0, \"ticks\": \"\"}}, \"type\": \"scatterpolar\"}], \"scatterpolargl\": [{\"marker\": {\"colorbar\": {\"outlinewidth\": 0, \"ticks\": \"\"}}, \"type\": \"scatterpolargl\"}], \"scatterternary\": [{\"marker\": {\"colorbar\": {\"outlinewidth\": 0, \"ticks\": \"\"}}, \"type\": \"scatterternary\"}], \"surface\": [{\"colorbar\": {\"outlinewidth\": 0, \"ticks\": \"\"}, \"colorscale\": [[0.0, \"#0d0887\"], [0.1111111111111111, \"#46039f\"], [0.2222222222222222, \"#7201a8\"], [0.3333333333333333, \"#9c179e\"], [0.4444444444444444, \"#bd3786\"], [0.5555555555555556, \"#d8576b\"], [0.6666666666666666, \"#ed7953\"], [0.7777777777777778, \"#fb9f3a\"], [0.8888888888888888, \"#fdca26\"], [1.0, \"#f0f921\"]], \"type\": \"surface\"}], \"table\": [{\"cells\": {\"fill\": {\"color\": \"#EBF0F8\"}, \"line\": {\"color\": \"white\"}}, \"header\": {\"fill\": {\"color\": \"#C8D4E3\"}, \"line\": {\"color\": \"white\"}}, \"type\": \"table\"}]}, \"layout\": {\"annotationdefaults\": {\"arrowcolor\": \"#2a3f5f\", \"arrowhead\": 0, \"arrowwidth\": 1}, \"autotypenumbers\": \"strict\", \"coloraxis\": {\"colorbar\": {\"outlinewidth\": 0, \"ticks\": \"\"}}, \"colorscale\": {\"diverging\": [[0, \"#8e0152\"], [0.1, \"#c51b7d\"], [0.2, \"#de77ae\"], [0.3, \"#f1b6da\"], [0.4, \"#fde0ef\"], [0.5, \"#f7f7f7\"], [0.6, \"#e6f5d0\"], [0.7, \"#b8e186\"], [0.8, \"#7fbc41\"], [0.9, \"#4d9221\"], [1, \"#276419\"]], \"sequential\": [[0.0, \"#0d0887\"], [0.1111111111111111, \"#46039f\"], [0.2222222222222222, \"#7201a8\"], [0.3333333333333333, \"#9c179e\"], [0.4444444444444444, \"#bd3786\"], [0.5555555555555556, \"#d8576b\"], [0.6666666666666666, \"#ed7953\"], [0.7777777777777778, \"#fb9f3a\"], [0.8888888888888888, \"#fdca26\"], [1.0, \"#f0f921\"]], \"sequentialminus\": [[0.0, \"#0d0887\"], [0.1111111111111111, \"#46039f\"], [0.2222222222222222, \"#7201a8\"], [0.3333333333333333, \"#9c179e\"], [0.4444444444444444, \"#bd3786\"], [0.5555555555555556, \"#d8576b\"], [0.6666666666666666, \"#ed7953\"], [0.7777777777777778, \"#fb9f3a\"], [0.8888888888888888, \"#fdca26\"], [1.0, \"#f0f921\"]]}, \"colorway\": [\"#636efa\", \"#EF553B\", \"#00cc96\", \"#ab63fa\", \"#FFA15A\", \"#19d3f3\", \"#FF6692\", \"#B6E880\", \"#FF97FF\", \"#FECB52\"], \"font\": {\"color\": \"#2a3f5f\"}, \"geo\": {\"bgcolor\": \"white\", \"lakecolor\": \"white\", \"landcolor\": \"#E5ECF6\", \"showlakes\": true, \"showland\": true, \"subunitcolor\": \"white\"}, \"hoverlabel\": {\"align\": \"left\"}, \"hovermode\": \"closest\", \"mapbox\": {\"style\": \"light\"}, \"paper_bgcolor\": \"white\", \"plot_bgcolor\": \"#E5ECF6\", \"polar\": {\"angularaxis\": {\"gridcolor\": \"white\", \"linecolor\": \"white\", \"ticks\": \"\"}, \"bgcolor\": \"#E5ECF6\", \"radialaxis\": {\"gridcolor\": \"white\", \"linecolor\": \"white\", \"ticks\": \"\"}}, \"scene\": {\"xaxis\": {\"backgroundcolor\": \"#E5ECF6\", \"gridcolor\": \"white\", \"gridwidth\": 2, \"linecolor\": \"white\", \"showbackground\": true, \"ticks\": \"\", \"zerolinecolor\": \"white\"}, \"yaxis\": {\"backgroundcolor\": \"#E5ECF6\", \"gridcolor\": \"white\", \"gridwidth\": 2, \"linecolor\": \"white\", \"showbackground\": true, \"ticks\": \"\", \"zerolinecolor\": \"white\"}, \"zaxis\": {\"backgroundcolor\": \"#E5ECF6\", \"gridcolor\": \"white\", \"gridwidth\": 2, \"linecolor\": \"white\", \"showbackground\": true, \"ticks\": \"\", \"zerolinecolor\": \"white\"}}, \"shapedefaults\": {\"line\": {\"color\": \"#2a3f5f\"}}, \"ternary\": {\"aaxis\": {\"gridcolor\": \"white\", \"linecolor\": \"white\", \"ticks\": \"\"}, \"baxis\": {\"gridcolor\": \"white\", \"linecolor\": \"white\", \"ticks\": \"\"}, \"bgcolor\": \"#E5ECF6\", \"caxis\": {\"gridcolor\": \"white\", \"linecolor\": \"white\", \"ticks\": \"\"}}, \"title\": {\"x\": 0.05}, \"xaxis\": {\"automargin\": true, \"gridcolor\": \"white\", \"linecolor\": \"white\", \"ticks\": \"\", \"title\": {\"standoff\": 15}, \"zerolinecolor\": \"white\", \"zerolinewidth\": 2}, \"yaxis\": {\"automargin\": true, \"gridcolor\": \"white\", \"linecolor\": \"white\", \"ticks\": \"\", \"title\": {\"standoff\": 15}, \"zerolinecolor\": \"white\", \"zerolinewidth\": 2}}}},                        {\"responsive\": true}                    ).then(function(){\n",
       "                            \n",
       "var gd = document.getElementById('532373d5-07da-44e6-a90d-0388c17d11c8');\n",
       "var x = new MutationObserver(function (mutations, observer) {{\n",
       "        var display = window.getComputedStyle(gd).display;\n",
       "        if (!display || display === 'none') {{\n",
       "            console.log([gd, 'removed!']);\n",
       "            Plotly.purge(gd);\n",
       "            observer.disconnect();\n",
       "        }}\n",
       "}});\n",
       "\n",
       "// Listen for the removal of the full notebook cells\n",
       "var notebookContainer = gd.closest('#notebook-container');\n",
       "if (notebookContainer) {{\n",
       "    x.observe(notebookContainer, {childList: true});\n",
       "}}\n",
       "\n",
       "// Listen for the clearing of the current output cell\n",
       "var outputEl = gd.closest('.output');\n",
       "if (outputEl) {{\n",
       "    x.observe(outputEl, {childList: true});\n",
       "}}\n",
       "\n",
       "                        })                };                });            </script>        </div>"
      ]
     },
     "metadata": {},
     "output_type": "display_data"
    }
   ],
   "source": [
    "# Create a map\n",
    "px.set_mapbox_access_token(open(\".mapbox_token\").read())\n",
    "fig = px.scatter_mapbox(ward49_df,\n",
    "                        lat=\"latitude\",\n",
    "                        lon=\"longitude\",\n",
    "                        hover_data=[\"name\",\"address\"],\n",
    "                        zoom=12)\n",
    "#fig.update_layout(mapbox_style=\"open-street-map\")\n",
    "#fig.update_layout(mapbox_style=\"basic\")\n",
    "fig.update_layout(mapbox_style=\"streets\")\n",
    "fig.show()"
   ]
  },
  {
   "cell_type": "code",
   "execution_count": 42,
   "metadata": {
    "scrolled": true
   },
   "outputs": [],
   "source": [
    "# Add markers to the map\n",
    "for lat, lon, name in zip(ward49_df['latitude'],\n",
    "                          ward49_df['longitude'],\n",
    "                          ward49_df['name']):\n",
    "    label = folium.Popup(str(name), parse_html=True)\n",
    "    folium.CircleMarker(\n",
    "       [lat, lon],\n",
    "       radius=5,\n",
    "       popup=label,\n",
    "       fill=True,\n",
    "       fill_opacity=0.7).add_to(chicago_map)"
   ]
  },
  {
   "cell_type": "code",
   "execution_count": 43,
   "metadata": {},
   "outputs": [
    {
     "data": {
      "text/html": [
       "<div style=\"width:100%;\"><div style=\"position:relative;width:100%;height:0;padding-bottom:60%;\"><iframe src=\"data:text/html;charset=utf-8;base64,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\" style=\"position:absolute;width:100%;height:100%;left:0;top:0;border:none !important;\" allowfullscreen webkitallowfullscreen mozallowfullscreen></iframe></div></div>"
      ],
      "text/plain": [
       "<folium.folium.Map at 0x2a23a3f5da0>"
      ]
     },
     "execution_count": 43,
     "metadata": {},
     "output_type": "execute_result"
    }
   ],
   "source": [
    "# Display the map\n",
    "chicago_map"
   ]
  },
  {
   "cell_type": "markdown",
   "metadata": {},
   "source": [
    "## Test interactive map"
   ]
  },
  {
   "cell_type": "code",
   "execution_count": 44,
   "metadata": {},
   "outputs": [],
   "source": [
    "# Create a map\n",
    "chicago_map = folium.Map(location=[latitude, longitude],\n",
    "                         zoom_start=14)"
   ]
  },
  {
   "cell_type": "code",
   "execution_count": 45,
   "metadata": {},
   "outputs": [
    {
     "data": {
      "text/html": [
       "<div>\n",
       "<style scoped>\n",
       "    .dataframe tbody tr th:only-of-type {\n",
       "        vertical-align: middle;\n",
       "    }\n",
       "\n",
       "    .dataframe tbody tr th {\n",
       "        vertical-align: top;\n",
       "    }\n",
       "\n",
       "    .dataframe thead th {\n",
       "        text-align: right;\n",
       "    }\n",
       "</style>\n",
       "<table border=\"1\" class=\"dataframe\">\n",
       "  <thead>\n",
       "    <tr style=\"text-align: right;\">\n",
       "      <th></th>\n",
       "      <th>latitude</th>\n",
       "      <th>longitude</th>\n",
       "    </tr>\n",
       "  </thead>\n",
       "  <tbody>\n",
       "    <tr>\n",
       "      <th>0</th>\n",
       "      <td>42.006708</td>\n",
       "      <td>-87.673408</td>\n",
       "    </tr>\n",
       "  </tbody>\n",
       "</table>\n",
       "</div>"
      ],
      "text/plain": [
       "    latitude  longitude\n",
       "0  42.006708 -87.673408"
      ]
     },
     "execution_count": 45,
     "metadata": {},
     "output_type": "execute_result"
    }
   ],
   "source": [
    "#ward49_df[ward49_df['location_type'] == 'Library']\n",
    "ward49_df[ward49_df['location_type'] == 'Library'][['latitude','longitude']]"
   ]
  },
  {
   "cell_type": "code",
   "execution_count": 46,
   "metadata": {},
   "outputs": [],
   "source": [
    "points1 = [(42.006708, -87.673408)]\n",
    "\n",
    "library_group = folium.FeatureGroup(name='Library').add_to(chicago_map)\n",
    "\n",
    "for tuple_ in points1:\n",
    "    label = folium.Popup('Rogers Park Library', parse_html=True)\n",
    "    library_group.add_child(folium.CircleMarker(\n",
    "        (42.006708, -87.673408),\n",
    "        radius=5,\n",
    "        popup=label,\n",
    "        fill=True,\n",
    "        fill_opacity=0.7)\n",
    "    )"
   ]
  },
  {
   "cell_type": "code",
   "execution_count": 47,
   "metadata": {
    "scrolled": true
   },
   "outputs": [
    {
     "data": {
      "text/html": [
       "<div>\n",
       "<style scoped>\n",
       "    .dataframe tbody tr th:only-of-type {\n",
       "        vertical-align: middle;\n",
       "    }\n",
       "\n",
       "    .dataframe tbody tr th {\n",
       "        vertical-align: top;\n",
       "    }\n",
       "\n",
       "    .dataframe thead th {\n",
       "        text-align: right;\n",
       "    }\n",
       "</style>\n",
       "<table border=\"1\" class=\"dataframe\">\n",
       "  <thead>\n",
       "    <tr style=\"text-align: right;\">\n",
       "      <th></th>\n",
       "      <th>latitude</th>\n",
       "      <th>longitude</th>\n",
       "    </tr>\n",
       "  </thead>\n",
       "  <tbody>\n",
       "    <tr>\n",
       "      <th>1</th>\n",
       "      <td>42.002688</td>\n",
       "      <td>-87.669192</td>\n",
       "    </tr>\n",
       "    <tr>\n",
       "      <th>6</th>\n",
       "      <td>42.013031</td>\n",
       "      <td>-87.674818</td>\n",
       "    </tr>\n",
       "  </tbody>\n",
       "</table>\n",
       "</div>"
      ],
      "text/plain": [
       "    latitude  longitude\n",
       "1  42.002688 -87.669192\n",
       "6  42.013031 -87.674818"
      ]
     },
     "execution_count": 47,
     "metadata": {},
     "output_type": "execute_result"
    }
   ],
   "source": [
    "ward49_df[ward49_df['location_type'] == 'High School'][['latitude','longitude']]"
   ]
  },
  {
   "cell_type": "code",
   "execution_count": 48,
   "metadata": {},
   "outputs": [],
   "source": [
    "points2 = [(42.002688, -87.669192),\n",
    "           (42.013031, -87.674818)]\n",
    "\n",
    "hs_group = folium.FeatureGroup(name='High School').add_to(chicago_map)\n",
    "\n",
    "for tuple_ in points2:\n",
    "    label = folium.Popup('High School', parse_html=True)\n",
    "    hs_group.add_child(folium.CircleMarker(\n",
    "        tuple_,\n",
    "        radius=5,\n",
    "        popup=label,\n",
    "        fill=True,\n",
    "        fill_opacity=0.7)\n",
    "    )"
   ]
  },
  {
   "cell_type": "code",
   "execution_count": 49,
   "metadata": {
    "scrolled": true
   },
   "outputs": [
    {
     "data": {
      "text/html": [
       "<div style=\"width:100%;\"><div style=\"position:relative;width:100%;height:0;padding-bottom:60%;\"><iframe src=\"data:text/html;charset=utf-8;base64,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\" style=\"position:absolute;width:100%;height:100%;left:0;top:0;border:none !important;\" allowfullscreen webkitallowfullscreen mozallowfullscreen></iframe></div></div>"
      ],
      "text/plain": [
       "<folium.folium.Map at 0x2a23a3f0780>"
      ]
     },
     "execution_count": 49,
     "metadata": {},
     "output_type": "execute_result"
    }
   ],
   "source": [
    "folium.LayerControl().add_to(chicago_map)\n",
    "chicago_map"
   ]
  },
  {
   "cell_type": "markdown",
   "metadata": {},
   "source": [
    "## Create Interactive Map"
   ]
  },
  {
   "cell_type": "code",
   "execution_count": 50,
   "metadata": {},
   "outputs": [],
   "source": [
    "# Create a map\n",
    "chicago_map = folium.Map(location=[latitude, longitude],\n",
    "                         zoom_start=14)"
   ]
  },
  {
   "cell_type": "code",
   "execution_count": 51,
   "metadata": {},
   "outputs": [],
   "source": [
    "fgroup = []"
   ]
  },
  {
   "cell_type": "code",
   "execution_count": 52,
   "metadata": {},
   "outputs": [
    {
     "data": {
      "text/plain": [
       "[<folium.map.FeatureGroup at 0x2a23a4647b8>,\n",
       " <folium.map.FeatureGroup at 0x2a23a412710>,\n",
       " <folium.map.FeatureGroup at 0x2a23a464898>]"
      ]
     },
     "execution_count": 52,
     "metadata": {},
     "output_type": "execute_result"
    }
   ],
   "source": [
    "for i in range(len(location_type_list)):\n",
    "    #print(i, location_type_list[i])\n",
    "    fgroup.append(folium.FeatureGroup(name=location_type_list[i]).add_to(chicago_map))\n",
    "    for row in ward49_df[ward49_df['location_type'] == location_type_list[i]].itertuples():\n",
    "        #print(row.name, row.latitude, row.longitude)\n",
    "        label = folium.Popup(row.name, parse_html=True)\n",
    "        fgroup[i].add_child(folium.CircleMarker(\n",
    "            [row.latitude, row.longitude],\n",
    "            radius=5,\n",
    "            popup=label,\n",
    "            fill=True,\n",
    "            fill_opacity=0.7).add_to(chicago_map)\n",
    "        )\n",
    "    \n",
    "fgroup"
   ]
  },
  {
   "cell_type": "code",
   "execution_count": 53,
   "metadata": {
    "scrolled": true
   },
   "outputs": [
    {
     "data": {
      "text/html": [
       "<div style=\"width:100%;\"><div style=\"position:relative;width:100%;height:0;padding-bottom:60%;\"><iframe src=\"data:text/html;charset=utf-8;base64,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\" style=\"position:absolute;width:100%;height:100%;left:0;top:0;border:none !important;\" allowfullscreen webkitallowfullscreen mozallowfullscreen></iframe></div></div>"
      ],
      "text/plain": [
       "<folium.folium.Map at 0x2a23a412cf8>"
      ]
     },
     "execution_count": 53,
     "metadata": {},
     "output_type": "execute_result"
    }
   ],
   "source": [
    "folium.LayerControl().add_to(chicago_map)\n",
    "chicago_map"
   ]
  },
  {
   "cell_type": "markdown",
   "metadata": {},
   "source": [
    "## Try different marker types"
   ]
  },
  {
   "cell_type": "code",
   "execution_count": 54,
   "metadata": {},
   "outputs": [],
   "source": [
    "# Create a map\n",
    "chicago_map = folium.Map(location=[latitude, longitude],\n",
    "                         zoom_start=14)"
   ]
  },
  {
   "cell_type": "code",
   "execution_count": 57,
   "metadata": {},
   "outputs": [
    {
     "data": {
      "text/html": [
       "<div style=\"width:100%;\"><div style=\"position:relative;width:100%;height:0;padding-bottom:60%;\"><iframe src=\"data:text/html;charset=utf-8;base64,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\" style=\"position:absolute;width:100%;height:100%;left:0;top:0;border:none !important;\" allowfullscreen webkitallowfullscreen mozallowfullscreen></iframe></div></div>"
      ],
      "text/plain": [
       "<folium.folium.Map at 0x2a23a412e10>"
      ]
     },
     "execution_count": 57,
     "metadata": {},
     "output_type": "execute_result"
    }
   ],
   "source": [
    "# Add markers to the map\n",
    "for lat, lon, name in zip(ward49_df['latitude'],\n",
    "                          ward49_df['longitude'],\n",
    "                          ward49_df['name']):\n",
    "    label = folium.Popup(str(name), parse_html=True)\n",
    "    icon = folium.Icon(color='red', icon='bell', prefix='fa')\n",
    "    folium.Marker(\n",
    "       location=[lat, lon],\n",
    "       icon=icon,\n",
    "       popup=label).add_to(chicago_map)\n",
    "    \n",
    "chicago_map"
   ]
  },
  {
   "cell_type": "markdown",
   "metadata": {},
   "source": [
    "## Customize interactive map"
   ]
  },
  {
   "cell_type": "code",
   "execution_count": 64,
   "metadata": {},
   "outputs": [
    {
     "data": {
      "text/html": [
       "<div style=\"width:100%;\"><div style=\"position:relative;width:100%;height:0;padding-bottom:60%;\"><iframe src=\"data:text/html;charset=utf-8;base64,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\" style=\"position:absolute;width:100%;height:100%;left:0;top:0;border:none !important;\" allowfullscreen webkitallowfullscreen mozallowfullscreen></iframe></div></div>"
      ],
      "text/plain": [
       "<folium.folium.Map at 0x2a23a05dd68>"
      ]
     },
     "execution_count": 64,
     "metadata": {},
     "output_type": "execute_result"
    }
   ],
   "source": [
    "# Create a map\n",
    "chicago_map = folium.Map(location=[latitude, longitude],\n",
    "                         zoom_start=13)\n",
    "\n",
    "fgroup = []\n",
    "for i in range(len(location_type_list)):\n",
    "    #print(i, location_type_list[i])\n",
    "    fgroup.append(folium.FeatureGroup(name=location_type_list[i]).add_to(chicago_map))\n",
    "    \n",
    "    for row in ward49_df[ward49_df['location_type'] == location_type_list[i]].itertuples():\n",
    "        #print(row.name, row.latitude, row.longitude)\n",
    "        label = folium.Popup(row.name, parse_html=True)\n",
    "        if row.location_type == 'Elementary School':\n",
    "            icon = folium.Icon(color='red', icon='bell', prefix='fa')\n",
    "        elif row.location_type == 'High School':\n",
    "            icon = folium.Icon(color='blue', icon='graduation-cap', prefix='fa')\n",
    "        elif row.location_type == 'Library':\n",
    "            icon = folium.Icon(color='green', icon='book', prefix='fa')\n",
    "        else:\n",
    "            icon = folium.Icon(color='gray', icon='question-circle', prefix='fa')\n",
    "\n",
    "        fgroup[i].add_child(folium.Marker(\n",
    "            location=[row.latitude, row.longitude],\n",
    "            icon=icon,\n",
    "            popup=label).add_to(chicago_map)\n",
    "        )\n",
    "        \n",
    "folium.LayerControl().add_to(chicago_map)\n",
    "chicago_map"
   ]
  },
  {
   "cell_type": "code",
   "execution_count": null,
   "metadata": {},
   "outputs": [],
   "source": []
  }
 ],
 "metadata": {
  "kernelspec": {
   "display_name": "ward49",
   "language": "python",
   "name": "ward49"
  },
  "language_info": {
   "codemirror_mode": {
    "name": "ipython",
    "version": 3
   },
   "file_extension": ".py",
   "mimetype": "text/x-python",
   "name": "python",
   "nbconvert_exporter": "python",
   "pygments_lexer": "ipython3",
   "version": "3.8.5"
  }
 },
 "nbformat": 4,
 "nbformat_minor": 4
}
